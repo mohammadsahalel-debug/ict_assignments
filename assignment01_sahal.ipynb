{
  "nbformat": 4,
  "nbformat_minor": 0,
  "metadata": {
    "colab": {
      "provenance": [],
      "authorship_tag": "ABX9TyMtjlyCm+PhvsOZAVT6osDS",
      "include_colab_link": true
    },
    "kernelspec": {
      "name": "python3",
      "display_name": "Python 3"
    },
    "language_info": {
      "name": "python"
    }
  },
  "cells": [
    {
      "cell_type": "markdown",
      "metadata": {
        "id": "view-in-github",
        "colab_type": "text"
      },
      "source": [
        "<a href=\"https://colab.research.google.com/github/mohammadsahalel-debug/ict_assignments/blob/main/assignment01_sahal.ipynb\" target=\"_parent\"><img src=\"https://colab.research.google.com/assets/colab-badge.svg\" alt=\"Open In Colab\"/></a>"
      ]
    },
    {
      "cell_type": "code",
      "source": [
        "#1\n",
        "item1_price = int(input(\"Item1 price: \"))\n",
        "item1_quantity = int(input(\"Item1 quantity: \"))\n",
        "item2_price = int(input(\"Item2 price: \"))\n",
        "item2_quantity = int(input(\"Item2 quantity: \"))\n",
        "t= item1_price * item1_quantity + item2_price * item2_quantity\n",
        "print(t)"
      ],
      "metadata": {
        "colab": {
          "base_uri": "https://localhost:8080/"
        },
        "id": "oPNBC5giYkWY",
        "outputId": "8822bf23-9bab-49d3-aaf4-53b68ee0b3a1"
      },
      "execution_count": null,
      "outputs": [
        {
          "output_type": "stream",
          "name": "stdout",
          "text": [
            "Item1 price: 45\n",
            "Item1 quantity: 3\n",
            "Item2 price: 30\n",
            "Item2 quantity: 2\n",
            "195\n"
          ]
        }
      ]
    },
    {
      "cell_type": "code",
      "source": [
        "#2\n",
        "print(\"temperature conversion\")\n",
        "cel = float(input(\"enter temperature in celsius\"))\n",
        "faren =(cel*9/5)+32\n",
        "print (faren)\n",
        "\n"
      ],
      "metadata": {
        "colab": {
          "base_uri": "https://localhost:8080/"
        },
        "id": "EX4JtDLDa9BU",
        "outputId": "0ab14968-40fa-43c1-889b-fcd0653d5127"
      },
      "execution_count": null,
      "outputs": [
        {
          "output_type": "stream",
          "name": "stdout",
          "text": [
            "temperature conversion\n",
            "enter temperature in celsius30\n",
            "86.0\n"
          ]
        }
      ]
    },
    {
      "cell_type": "code",
      "source": [
        "#3\n",
        "basic_salary = int(input(\"enter basic salary:\"))\n",
        "hr = 0.20 * basic_salary\n",
        "da = 0.10 * basic_salary\n",
        "print(basic_salary + hr + da)\n"
      ],
      "metadata": {
        "id": "VhJ70yHldQqR",
        "colab": {
          "base_uri": "https://localhost:8080/"
        },
        "outputId": "b0b38c63-3794-4166-ec8b-d6f72be55e53"
      },
      "execution_count": null,
      "outputs": [
        {
          "output_type": "stream",
          "name": "stdout",
          "text": [
            "enter basic salary:20000\n",
            "26000.0\n"
          ]
        }
      ]
    },
    {
      "cell_type": "code",
      "source": [
        "#4\n",
        "print(\"Intrest Calculator\")\n",
        "p = int(input(\"Enter principal:\"))\n",
        "r = float(input('Enter Rate of intrest:'))\n",
        "t = int(input(\"Time(in years):\"))\n",
        "\n",
        "si = (p*r*t)/100\n",
        "print(si)\n"
      ],
      "metadata": {
        "colab": {
          "base_uri": "https://localhost:8080/"
        },
        "id": "WDx5tvkMhdPV",
        "outputId": "93733b05-783f-400e-83ab-5e5c931a0596"
      },
      "execution_count": null,
      "outputs": [
        {
          "output_type": "stream",
          "name": "stdout",
          "text": [
            "Intrest Calculator\n",
            "Enter principal:10000\n",
            "Enter Rate of intrest:5\n",
            "Time(in years):2\n",
            "1000.0\n"
          ]
        }
      ]
    },
    {
      "cell_type": "code",
      "source": [
        "#5\n",
        "total_minutes = int(input(\"Enter total minutes: \"))\n",
        "hours = total_minutes // 60\n",
        "minutes = total_minutes % 60\n",
        "print(f\"{hours} hours and {minutes} minutes\")\n"
      ],
      "metadata": {
        "colab": {
          "base_uri": "https://localhost:8080/"
        },
        "id": "r2FMruB7hedS",
        "outputId": "a5fbaa87-b66e-43ba-8ee3-157702f857e9"
      },
      "execution_count": null,
      "outputs": [
        {
          "output_type": "stream",
          "name": "stdout",
          "text": [
            "Enter total minutes: 130\n",
            "2 hours and 10 minutes\n"
          ]
        }
      ]
    },
    {
      "cell_type": "code",
      "source": [
        "#6\n",
        "weight = float(input(\"Weight (kg): \"))\n",
        "height = float(input(\"Height (m): \"))\n",
        "bmi = weight / (height ** 2)\n",
        "print(\"BMI = {:.2f}\".format(bmi))\n"
      ],
      "metadata": {
        "colab": {
          "base_uri": "https://localhost:8080/"
        },
        "id": "mrind642nBU2",
        "outputId": "bff49a80-734b-417f-8e74-2b6c373aeba3"
      },
      "execution_count": null,
      "outputs": [
        {
          "output_type": "stream",
          "name": "stdout",
          "text": [
            "Weight (kg): 60\n",
            "Height (m): 1.65\n",
            "BMI = 22.04\n"
          ]
        }
      ]
    },
    {
      "cell_type": "code",
      "source": [
        "#7\n",
        "print (\"discount calculator\")\n",
        "ogprice = int(input(\"original input price \"))\n",
        "dis = ogprice - (ogprice * 10/100)\n",
        "print(dis)"
      ],
      "metadata": {
        "colab": {
          "base_uri": "https://localhost:8080/"
        },
        "id": "fROhhb7MAq0l",
        "outputId": "7917c03c-3c57-4206-8f22-d67d8d7d6883"
      },
      "execution_count": null,
      "outputs": [
        {
          "output_type": "stream",
          "name": "stdout",
          "text": [
            "discount calculator\n",
            "original input price 1200\n",
            "1080.0\n"
          ]
        }
      ]
    },
    {
      "cell_type": "code",
      "source": [
        "#8\n",
        "a=float(input(\"enter side a\"))\n",
        "b=float(input(\"enter side b\"))\n",
        "c=float(input(\"enter side c\"))\n",
        "s=(a+b+c)/2\n",
        "area=(s*(s-a)*(s-b)*(s-c))**0.5\n",
        "print(area)\n"
      ],
      "metadata": {
        "colab": {
          "base_uri": "https://localhost:8080/"
        },
        "id": "K3sYUK4DCJ6O",
        "outputId": "cf38d598-66b2-4c3e-8e13-498f4b642713"
      },
      "execution_count": null,
      "outputs": [
        {
          "output_type": "stream",
          "name": "stdout",
          "text": [
            "enter side a5\n",
            "enter side b6\n",
            "enter side c7\n",
            "14.696938456699069\n"
          ]
        }
      ]
    },
    {
      "cell_type": "code",
      "source": [
        "#9\n",
        "print(\"Paint Cost Estimator\")\n",
        "l = float(input(\"Enter length of the wall:\"))\n",
        "b = float(input(\"Enter breadth of the wall:\"))\n",
        "area = l * b\n",
        "area_w = 2*(1.5 * 1.2)\n",
        "paint = area - area_w\n",
        "print(paint,\"sq.m\")\n",
        "cost = paint * 25\n",
        "print(cost)\n"
      ],
      "metadata": {
        "colab": {
          "base_uri": "https://localhost:8080/"
        },
        "id": "B2K_vPHwBIEO",
        "outputId": "cc338d61-8ddf-4cd5-97ca-6ebbeda21c32"
      },
      "execution_count": null,
      "outputs": [
        {
          "output_type": "stream",
          "name": "stdout",
          "text": [
            "Paint Cost Estimator\n",
            "Enter length of the wall:12\n",
            "Enter breadth of the wall:8\n",
            "92.4 sq.m\n",
            "2310.0\n"
          ]
        }
      ]
    },
    {
      "cell_type": "code",
      "source": [
        "#10\n",
        "a=float(input(\"Enter number of units consumed\"))\n",
        "b=(a*5.2)+100\n",
        "print(b)\n"
      ],
      "metadata": {
        "colab": {
          "base_uri": "https://localhost:8080/"
        },
        "id": "8tTKRpwoD577",
        "outputId": "150ad4b8-8107-4056-c7c5-81ff00bfc895"
      },
      "execution_count": null,
      "outputs": [
        {
          "output_type": "stream",
          "name": "stdout",
          "text": [
            "Enter number of units consumed250\n",
            "1400.0\n"
          ]
        }
      ]
    },
    {
      "cell_type": "code",
      "source": [],
      "metadata": {
        "id": "A5yxmDPXEaBz"
      },
      "execution_count": null,
      "outputs": []
    }
  ]
}