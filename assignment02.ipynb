{
  "nbformat": 4,
  "nbformat_minor": 0,
  "metadata": {
    "colab": {
      "provenance": [],
      "authorship_tag": "ABX9TyN5wtMEDVL36o2cU7Zn8D39",
      "include_colab_link": true
    },
    "kernelspec": {
      "name": "python3",
      "display_name": "Python 3"
    },
    "language_info": {
      "name": "python"
    }
  },
  "cells": [
    {
      "cell_type": "markdown",
      "metadata": {
        "id": "view-in-github",
        "colab_type": "text"
      },
      "source": [
        "<a href=\"https://colab.research.google.com/github/mohammadsahalel-debug/ict_assignments/blob/main/assignment02.ipynb\" target=\"_parent\"><img src=\"https://colab.research.google.com/assets/colab-badge.svg\" alt=\"Open In Colab\"/></a>"
      ]
    },
    {
      "cell_type": "code",
      "execution_count": 8,
      "metadata": {
        "colab": {
          "base_uri": "https://localhost:8080/"
        },
        "id": "EzPdvWomAtx4",
        "outputId": "471ec18f-f826-4e8c-82ae-19bcb461e871"
      },
      "outputs": [
        {
          "output_type": "stream",
          "name": "stdout",
          "text": [
            "enter a number between 1 to 100:50\n",
            "Buzz\n"
          ]
        }
      ],
      "source": [
        "#1\n",
        "\n",
        "num = int(input(\"enter a number between 1 to 100:\"))\n",
        "for i in range(0,101):\n",
        "  if num%3 == 0 and num % 5 == 0:\n",
        "    print(\"FizzBuzz\")\n",
        "    break\n",
        "  elif num%3 == 0:\n",
        "    print(\"Fizz\")\n",
        "    break\n",
        "  elif num%5 == 0:\n",
        "    print(\"Buzz\")\n",
        "    break\n",
        "  else:\n",
        "    print(\"not divisible\")\n",
        "    break"
      ]
    },
    {
      "cell_type": "code",
      "source": [
        "#2\n",
        "\n",
        "n=int(input(\"enter the number of unit consumed : \"))\n",
        "totalamount = 0\n",
        "\n",
        "if n <=100:\n",
        "  totalamount = n*5\n",
        "elif n <= 200:\n",
        "  totalamount = (100*5) + (n-100) * 7\n",
        "else:\n",
        "  totalamount = (100*5) + (100*7)+((n-200)*10)\n",
        "print(f\"Total Bill amount :{totalamount}\")"
      ],
      "metadata": {
        "colab": {
          "base_uri": "https://localhost:8080/"
        },
        "id": "PfyzG-DrGCCl",
        "outputId": "713a5f82-03e6-4820-c089-33956e54aace"
      },
      "execution_count": 23,
      "outputs": [
        {
          "output_type": "stream",
          "name": "stdout",
          "text": [
            "enter the number of unit consumed : 245\n",
            "Total Bill amount :1650\n"
          ]
        }
      ]
    },
    {
      "cell_type": "code",
      "source": [
        "#3\n",
        "\n",
        "for i in range(1,6):\n",
        "  print(\"*\" * i)"
      ],
      "metadata": {
        "colab": {
          "base_uri": "https://localhost:8080/"
        },
        "id": "29A7V1C9If_h",
        "outputId": "4c98c61a-b3a8-41b5-fa68-91ce71d88317"
      },
      "execution_count": 24,
      "outputs": [
        {
          "output_type": "stream",
          "name": "stdout",
          "text": [
            "*\n",
            "**\n",
            "***\n",
            "****\n",
            "*****\n"
          ]
        }
      ]
    },
    {
      "cell_type": "code",
      "source": [
        "#4\n",
        "\n",
        "pal = str(input(\"Enter a number or string:\"))\n",
        "rev_pal = pal[::-1]\n",
        "\n",
        "if rev_pal == pal:\n",
        " print(pal,\"is a palindrome\")\n",
        "else:\n",
        " print(pal,\"is not a palindrome\")"
      ],
      "metadata": {
        "colab": {
          "base_uri": "https://localhost:8080/"
        },
        "id": "GqyAtBWOMgeF",
        "outputId": "4b952440-7a15-48a2-b79f-305d00b10ac3"
      },
      "execution_count": 25,
      "outputs": [
        {
          "output_type": "stream",
          "name": "stdout",
          "text": [
            "Enter a number or string:121\n",
            "121 is a palindrome\n"
          ]
        }
      ]
    },
    {
      "cell_type": "code",
      "source": [],
      "metadata": {
        "id": "RVUpbe3RNAEa"
      },
      "execution_count": null,
      "outputs": []
    }
  ]
}